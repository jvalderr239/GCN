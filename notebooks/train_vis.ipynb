{
 "cells": [
  {
   "cell_type": "code",
   "execution_count": 1,
   "metadata": {},
   "outputs": [],
   "source": [
    "from src.train_utils import generate_trajectory_dataset\n",
    "import torch"
   ]
  },
  {
   "cell_type": "code",
   "execution_count": 2,
   "metadata": {},
   "outputs": [
    {
     "name": "stdout",
     "output_type": "stream",
     "text": [
      "2023-12-18 18:53:25,942 - trainer - DEBUG - Defaulting to root: /Users/josevalderrama/Projects/NFLBIGDATA/resources/\n"
     ]
    },
    {
     "name": "stderr",
     "output_type": "stream",
     "text": [
      "100%|██████████| 1256/1256 [00:07<00:00, 170.73it/s]\n"
     ]
    },
    {
     "name": "stdout",
     "output_type": "stream",
     "text": [
      "2023-12-18 18:53:37,900 - datasets - INFO - Finished grouping 145 sequences\n",
      "2023-12-18 18:53:37,972 - datasets - INFO - Processing 145 plays ranging from 60 to 70 lengths...\n"
     ]
    }
   ],
   "source": [
    "\n",
    "val_dataset = generate_trajectory_dataset(\"validation\", obs_len=5, pred_len=10)"
   ]
  },
  {
   "cell_type": "code",
   "execution_count": 3,
   "metadata": {},
   "outputs": [
    {
     "name": "stdout",
     "output_type": "stream",
     "text": [
      "s    2.517447\n",
      "dtype: float64 s    1.856074\n",
      "dtype: float64\n"
     ]
    }
   ],
   "source": [
    "print(val_dataset.mean_speed, val_dataset.std_speed)"
   ]
  },
  {
   "cell_type": "code",
   "execution_count": 4,
   "metadata": {},
   "outputs": [
    {
     "name": "stdout",
     "output_type": "stream",
     "text": [
      "a    1.749545\n",
      "dtype: float64 a    1.247467\n",
      "dtype: float64\n"
     ]
    }
   ],
   "source": [
    "print(val_dataset.mean_acc, val_dataset.std_acc)"
   ]
  },
  {
   "cell_type": "code",
   "execution_count": 5,
   "metadata": {},
   "outputs": [
    {
     "name": "stdout",
     "output_type": "stream",
     "text": [
      "dis    0.254945\n",
      "dtype: float64 dis    0.186658\n",
      "dtype: float64\n"
     ]
    }
   ],
   "source": [
    "print(val_dataset.mean_distance_traveled, val_dataset.std_distance_traveled)"
   ]
  },
  {
   "cell_type": "code",
   "execution_count": 6,
   "metadata": {},
   "outputs": [
    {
     "name": "stdout",
     "output_type": "stream",
     "text": [
      "21\n"
     ]
    }
   ],
   "source": [
    "print(val_dataset.num_features)"
   ]
  },
  {
   "cell_type": "code",
   "execution_count": 7,
   "metadata": {},
   "outputs": [],
   "source": [
    "dataloader = torch.utils.data.DataLoader(val_dataset, batch_size=1)"
   ]
  },
  {
   "cell_type": "code",
   "execution_count": 10,
   "metadata": {},
   "outputs": [
    {
     "name": "stdout",
     "output_type": "stream",
     "text": [
      "torch.Size([1, 1, 2])\n"
     ]
    }
   ],
   "source": [
    "from src.metrics import compute_bivariate_params\n",
    "\n",
    "for batch in dataloader:\n",
    "\n",
    "    V_obs, A_obs, obs_traj = batch[\"data\"]\n",
    "    truth_labels = batch[\"labels\"]\n",
    "    print(truth_labels[\"time_of_event\"].shape)\n",
    "    break"
   ]
  },
  {
   "cell_type": "code",
   "execution_count": 12,
   "metadata": {},
   "outputs": [
    {
     "name": "stdout",
     "output_type": "stream",
     "text": [
      "tensor([ 0.6323,  0.2734, -0.1010, -0.4646, -0.1336,  0.7126,  0.0680,  0.0769,\n",
      "         0.2203,  0.0000,  0.0000,  0.0000,  6.0000,  0.8000,  0.2500,     nan,\n",
      "         0.5417,  0.0000,  0.0000,  0.0000,  0.0000])\n"
     ]
    }
   ],
   "source": [
    "traj = sample['labels']['trajectory']\n",
    "print(traj[0, 0, 0, :])"
   ]
  },
  {
   "cell_type": "code",
   "execution_count": 10,
   "metadata": {},
   "outputs": [
    {
     "name": "stdout",
     "output_type": "stream",
     "text": [
      "tensor(0.2945)\n"
     ]
    }
   ],
   "source": [
    "print(traj[0, 0, 0, 0])"
   ]
  },
  {
   "cell_type": "code",
   "execution_count": 2,
   "metadata": {},
   "outputs": [
    {
     "name": "stdout",
     "output_type": "stream",
     "text": [
      "tensor([0.7000])\n"
     ]
    }
   ],
   "source": [
    "import torch\n",
    "tensor = torch.Tensor([[0.1, 0.7]])\n",
    "print(tensor[tensor > 0.5])"
   ]
  },
  {
   "cell_type": "code",
   "execution_count": null,
   "metadata": {},
   "outputs": [],
   "source": []
  }
 ],
 "metadata": {
  "kernelspec": {
   "display_name": ".venv",
   "language": "python",
   "name": "python3"
  },
  "language_info": {
   "codemirror_mode": {
    "name": "ipython",
    "version": 3
   },
   "file_extension": ".py",
   "mimetype": "text/x-python",
   "name": "python",
   "nbconvert_exporter": "python",
   "pygments_lexer": "ipython3",
   "version": "3.9.7"
  },
  "orig_nbformat": 4,
  "vscode": {
   "interpreter": {
    "hash": "7060df42213b144db81061398611e0e5cb9eef953978b054391177d859ea8ffe"
   }
  }
 },
 "nbformat": 4,
 "nbformat_minor": 2
}
