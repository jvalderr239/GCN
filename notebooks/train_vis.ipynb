{
 "cells": [
  {
   "cell_type": "code",
   "execution_count": 1,
   "metadata": {},
   "outputs": [],
   "source": [
    "from src.train_utils import generate_trajectory_dataset\n",
    "import torch"
   ]
  },
  {
   "cell_type": "code",
   "execution_count": 2,
   "metadata": {},
   "outputs": [
    {
     "name": "stdout",
     "output_type": "stream",
     "text": [
      "2023-12-18 12:11:59,501 - trainer - DEBUG - Defaulting to root: /Users/josevalderrama/Projects/NFLBIGDATA/resources/\n"
     ]
    },
    {
     "name": "stderr",
     "output_type": "stream",
     "text": [
      "100%|██████████| 1256/1256 [00:04<00:00, 284.48it/s]"
     ]
    },
    {
     "name": "stdout",
     "output_type": "stream",
     "text": [
      "2023-12-18 12:12:07,117 - datasets - INFO - Finished grouping 145 sequences\n",
      "2023-12-18 12:12:07,156 - datasets - INFO - Processing 145 plays ranging from 60 to 70 lengths...\n"
     ]
    },
    {
     "name": "stderr",
     "output_type": "stream",
     "text": [
      "\n"
     ]
    }
   ],
   "source": [
    "\n",
    "val_dataset = generate_trajectory_dataset(\"validation\", obs_len=5, pred_len=10)"
   ]
  },
  {
   "cell_type": "code",
   "execution_count": 3,
   "metadata": {},
   "outputs": [
    {
     "name": "stdout",
     "output_type": "stream",
     "text": [
      "s    2.517447\n",
      "dtype: float64 s    1.856074\n",
      "dtype: float64\n"
     ]
    }
   ],
   "source": [
    "print(val_dataset.mean_speed, val_dataset.std_speed)"
   ]
  },
  {
   "cell_type": "code",
   "execution_count": 4,
   "metadata": {},
   "outputs": [
    {
     "name": "stdout",
     "output_type": "stream",
     "text": [
      "a    1.749545\n",
      "dtype: float64 a    1.247467\n",
      "dtype: float64\n"
     ]
    }
   ],
   "source": [
    "print(val_dataset.mean_acc, val_dataset.std_acc)"
   ]
  },
  {
   "cell_type": "code",
   "execution_count": 5,
   "metadata": {},
   "outputs": [
    {
     "name": "stdout",
     "output_type": "stream",
     "text": [
      "dis    0.254945\n",
      "dtype: float64 dis    0.186658\n",
      "dtype: float64\n"
     ]
    }
   ],
   "source": [
    "print(val_dataset.mean_distance_traveled, val_dataset.std_distance_traveled)"
   ]
  },
  {
   "cell_type": "code",
   "execution_count": 6,
   "metadata": {},
   "outputs": [
    {
     "name": "stdout",
     "output_type": "stream",
     "text": [
      "21\n"
     ]
    }
   ],
   "source": [
    "print(val_dataset.num_features)"
   ]
  },
  {
   "cell_type": "code",
   "execution_count": 7,
   "metadata": {},
   "outputs": [],
   "source": [
    "dataloader = torch.utils.data.DataLoader(val_dataset, batch_size=1)"
   ]
  },
  {
   "cell_type": "code",
   "execution_count": 10,
   "metadata": {},
   "outputs": [
    {
     "name": "stdout",
     "output_type": "stream",
     "text": [
      "torch.Size([5, 22])\n",
      "tensor([[ 26.4500,  26.5600,  32.7400,  29.6000,  14.0100,  26.5500,  25.8500,\n",
      "          35.2800,  22.7400,  21.3500,  28.0000,  28.5500,  25.0800,  23.6000,\n",
      "          31.4800,  31.1300,  33.0300,  22.3700,  29.7500,  26.6200,  20.6500,\n",
      "          14.7900],\n",
      "        [ 52.9200,  53.1200,  65.3900,  59.2000,  28.0600,  53.1000,  51.7000,\n",
      "          70.7700,  45.3300,  42.7200,  56.0000,  57.1000,  50.1600,  47.2000,\n",
      "          62.9600,  62.2600,  66.0600,  44.7400,  59.5000,  53.2300,  41.4400,\n",
      "          29.5800],\n",
      "        [ 79.3900,  79.6700,  97.9500,  88.8000,  42.1400,  79.6500,  77.5500,\n",
      "         106.4600,  67.7600,  64.1000,  84.0000,  85.6500,  75.2400,  70.8000,\n",
      "          94.4300,  93.3900,  99.0900,  67.1100,  89.2500,  79.8400,  62.4100,\n",
      "          44.3700],\n",
      "        [105.8600, 106.2200, 130.4100, 118.3900,  56.2500, 106.2000, 103.4000,\n",
      "         142.3500,  90.0300,  85.5000, 112.0000, 114.2000, 100.3200,  94.4000,\n",
      "         125.9000, 124.5200, 132.1200,  89.4700, 119.0200, 106.4500,  83.6200,\n",
      "          59.1600],\n",
      "        [132.3400, 132.7700, 162.7900, 147.9500,  70.3900, 132.7500, 129.2400,\n",
      "         178.4400, 112.1500, 106.9300, 139.9700, 142.7500, 125.3900, 117.9900,\n",
      "         157.3300, 155.6400, 165.1500, 111.8300, 148.8100, 133.0400, 105.1100,\n",
      "          73.9500]])\n"
     ]
    }
   ],
   "source": [
    "from src.metrics import compute_bivariate_params\n",
    "\n",
    "for batch in dataloader:\n",
    "\n",
    "    V_obs, A_obs, obs_traj = batch[\"data\"]\n",
    "    truth_labels = batch[\"labels\"]\n",
    "\n",
    "    V_truth = truth_labels[\"trajectory_relative\"]\n",
    "    V_x = torch.cumsum(V_obs[..., 0], dim=1) + obs_traj[:, 0, :, 0]\n",
    "    V_y = torch.cumsum(V_obs[..., 1], dim=1) + obs_traj[:, 0, :, 1]\n",
    "    print(V_x[0].shape)\n",
    "    print(V_y[0])\n",
    "\n",
    "    *_, cov, mean = compute_bivariate_params(V_pred=V_pred)\n",
    "    mvnormal = torch.distributions.multivariate_normal.MultivariateNormal(mean,cov)\n",
    "    V_pred = mvnormal.sample()\n",
    "    \n",
    "    torch.cumsum(V_pred[..., 0], dim=1) + obs_traj[:, 0, :, 0]\n",
    "    break"
   ]
  },
  {
   "cell_type": "code",
   "execution_count": 12,
   "metadata": {},
   "outputs": [
    {
     "name": "stdout",
     "output_type": "stream",
     "text": [
      "tensor([ 0.6323,  0.2734, -0.1010, -0.4646, -0.1336,  0.7126,  0.0680,  0.0769,\n",
      "         0.2203,  0.0000,  0.0000,  0.0000,  6.0000,  0.8000,  0.2500,     nan,\n",
      "         0.5417,  0.0000,  0.0000,  0.0000,  0.0000])\n"
     ]
    }
   ],
   "source": [
    "traj = sample['labels']['trajectory']\n",
    "print(traj[0, 0, 0, :])"
   ]
  },
  {
   "cell_type": "code",
   "execution_count": 10,
   "metadata": {},
   "outputs": [
    {
     "name": "stdout",
     "output_type": "stream",
     "text": [
      "tensor(0.2945)\n"
     ]
    }
   ],
   "source": [
    "print(traj[0, 0, 0, 0])"
   ]
  },
  {
   "cell_type": "code",
   "execution_count": 2,
   "metadata": {},
   "outputs": [
    {
     "name": "stdout",
     "output_type": "stream",
     "text": [
      "tensor([0.7000])\n"
     ]
    }
   ],
   "source": [
    "import torch\n",
    "tensor = torch.Tensor([[0.1, 0.7]])\n",
    "print(tensor[tensor > 0.5])"
   ]
  },
  {
   "cell_type": "code",
   "execution_count": null,
   "metadata": {},
   "outputs": [],
   "source": []
  }
 ],
 "metadata": {
  "kernelspec": {
   "display_name": ".venv",
   "language": "python",
   "name": "python3"
  },
  "language_info": {
   "codemirror_mode": {
    "name": "ipython",
    "version": 3
   },
   "file_extension": ".py",
   "mimetype": "text/x-python",
   "name": "python",
   "nbconvert_exporter": "python",
   "pygments_lexer": "ipython3",
   "version": "3.9.7"
  },
  "orig_nbformat": 4,
  "vscode": {
   "interpreter": {
    "hash": "7060df42213b144db81061398611e0e5cb9eef953978b054391177d859ea8ffe"
   }
  }
 },
 "nbformat": 4,
 "nbformat_minor": 2
}
