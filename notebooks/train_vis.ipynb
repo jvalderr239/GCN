{
 "cells": [
  {
   "cell_type": "code",
   "execution_count": 1,
   "metadata": {},
   "outputs": [],
   "source": [
    "from src.train_utils import generate_trajectory_dataset\n",
    "import torch"
   ]
  },
  {
   "cell_type": "code",
   "execution_count": 2,
   "metadata": {},
   "outputs": [
    {
     "name": "stdout",
     "output_type": "stream",
     "text": [
      "2023-12-19 10:27:19,428 - trainer - DEBUG - Defaulting to root: /Users/josevalderrama/Projects/NFLBIGDATA/resources/\n"
     ]
    },
    {
     "name": "stderr",
     "output_type": "stream",
     "text": [
      "100%|██████████| 7530/7530 [00:19<00:00, 380.07it/s]\n"
     ]
    },
    {
     "name": "stdout",
     "output_type": "stream",
     "text": [
      "2023-12-19 10:28:01,115 - datasets - INFO - Finished grouping 1650 sequences including augmented instances\n",
      "2023-12-19 10:28:01,491 - datasets - INFO - Processing 1650 plays ranging from 60 to 70 lengths...\n"
     ]
    }
   ],
   "source": [
    "\n",
    "val_dataset = generate_trajectory_dataset(\"train\", obs_len=5, pred_len=10)"
   ]
  },
  {
   "cell_type": "code",
   "execution_count": 3,
   "metadata": {},
   "outputs": [
    {
     "name": "stdout",
     "output_type": "stream",
     "text": [
      "s    2.516739\n",
      "dtype: float64 s    1.859503\n",
      "dtype: float64\n"
     ]
    }
   ],
   "source": [
    "print(val_dataset.mean_speed, val_dataset.std_speed)"
   ]
  },
  {
   "cell_type": "code",
   "execution_count": 4,
   "metadata": {},
   "outputs": [
    {
     "name": "stdout",
     "output_type": "stream",
     "text": [
      "a    1.745113\n",
      "dtype: float64 a    1.243947\n",
      "dtype: float64\n"
     ]
    }
   ],
   "source": [
    "print(val_dataset.mean_acc, val_dataset.std_acc)"
   ]
  },
  {
   "cell_type": "code",
   "execution_count": 5,
   "metadata": {},
   "outputs": [
    {
     "name": "stdout",
     "output_type": "stream",
     "text": [
      "dis    0.254896\n",
      "dtype: float64 dis    0.187075\n",
      "dtype: float64\n"
     ]
    }
   ],
   "source": [
    "print(val_dataset.mean_distance_traveled, val_dataset.std_distance_traveled)"
   ]
  },
  {
   "cell_type": "code",
   "execution_count": 6,
   "metadata": {},
   "outputs": [
    {
     "name": "stdout",
     "output_type": "stream",
     "text": [
      "21\n"
     ]
    }
   ],
   "source": [
    "print(val_dataset.num_features)"
   ]
  },
  {
   "cell_type": "code",
   "execution_count": 11,
   "metadata": {},
   "outputs": [],
   "source": [
    "dataloader = torch.utils.data.DataLoader(val_dataset, batch_size=64)"
   ]
  },
  {
   "cell_type": "code",
   "execution_count": 12,
   "metadata": {},
   "outputs": [
    {
     "ename": "KeyboardInterrupt",
     "evalue": "",
     "output_type": "error",
     "traceback": [
      "\u001b[0;31m---------------------------------------------------------------------------\u001b[0m",
      "\u001b[0;31mKeyboardInterrupt\u001b[0m                         Traceback (most recent call last)",
      "Cell \u001b[0;32mIn[12], line 3\u001b[0m\n\u001b[1;32m      1\u001b[0m \u001b[39mfrom\u001b[39;00m \u001b[39msrc\u001b[39;00m\u001b[39m.\u001b[39;00m\u001b[39mmetrics\u001b[39;00m \u001b[39mimport\u001b[39;00m compute_bivariate_params\n\u001b[0;32m----> 3\u001b[0m \u001b[39mfor\u001b[39;00m batch \u001b[39min\u001b[39;00m dataloader:\n\u001b[1;32m      5\u001b[0m     V_obs, A_obs, obs_traj \u001b[39m=\u001b[39m batch[\u001b[39m\"\u001b[39m\u001b[39mdata\u001b[39m\u001b[39m\"\u001b[39m]\n\u001b[1;32m      6\u001b[0m     truth_labels \u001b[39m=\u001b[39m batch[\u001b[39m\"\u001b[39m\u001b[39mlabels\u001b[39m\u001b[39m\"\u001b[39m]\n",
      "File \u001b[0;32m~/Projects/NFLBIGDATA/.venv/lib/python3.9/site-packages/torch/utils/data/dataloader.py:628\u001b[0m, in \u001b[0;36m_BaseDataLoaderIter.__next__\u001b[0;34m(self)\u001b[0m\n\u001b[1;32m    625\u001b[0m \u001b[39mif\u001b[39;00m \u001b[39mself\u001b[39m\u001b[39m.\u001b[39m_sampler_iter \u001b[39mis\u001b[39;00m \u001b[39mNone\u001b[39;00m:\n\u001b[1;32m    626\u001b[0m     \u001b[39m# TODO(https://github.com/pytorch/pytorch/issues/76750)\u001b[39;00m\n\u001b[1;32m    627\u001b[0m     \u001b[39mself\u001b[39m\u001b[39m.\u001b[39m_reset()  \u001b[39m# type: ignore[call-arg]\u001b[39;00m\n\u001b[0;32m--> 628\u001b[0m data \u001b[39m=\u001b[39m \u001b[39mself\u001b[39;49m\u001b[39m.\u001b[39;49m_next_data()\n\u001b[1;32m    629\u001b[0m \u001b[39mself\u001b[39m\u001b[39m.\u001b[39m_num_yielded \u001b[39m+\u001b[39m\u001b[39m=\u001b[39m \u001b[39m1\u001b[39m\n\u001b[1;32m    630\u001b[0m \u001b[39mif\u001b[39;00m \u001b[39mself\u001b[39m\u001b[39m.\u001b[39m_dataset_kind \u001b[39m==\u001b[39m _DatasetKind\u001b[39m.\u001b[39mIterable \u001b[39mand\u001b[39;00m \\\n\u001b[1;32m    631\u001b[0m         \u001b[39mself\u001b[39m\u001b[39m.\u001b[39m_IterableDataset_len_called \u001b[39mis\u001b[39;00m \u001b[39mnot\u001b[39;00m \u001b[39mNone\u001b[39;00m \u001b[39mand\u001b[39;00m \\\n\u001b[1;32m    632\u001b[0m         \u001b[39mself\u001b[39m\u001b[39m.\u001b[39m_num_yielded \u001b[39m>\u001b[39m \u001b[39mself\u001b[39m\u001b[39m.\u001b[39m_IterableDataset_len_called:\n",
      "File \u001b[0;32m~/Projects/NFLBIGDATA/.venv/lib/python3.9/site-packages/torch/utils/data/dataloader.py:671\u001b[0m, in \u001b[0;36m_SingleProcessDataLoaderIter._next_data\u001b[0;34m(self)\u001b[0m\n\u001b[1;32m    669\u001b[0m \u001b[39mdef\u001b[39;00m \u001b[39m_next_data\u001b[39m(\u001b[39mself\u001b[39m):\n\u001b[1;32m    670\u001b[0m     index \u001b[39m=\u001b[39m \u001b[39mself\u001b[39m\u001b[39m.\u001b[39m_next_index()  \u001b[39m# may raise StopIteration\u001b[39;00m\n\u001b[0;32m--> 671\u001b[0m     data \u001b[39m=\u001b[39m \u001b[39mself\u001b[39;49m\u001b[39m.\u001b[39;49m_dataset_fetcher\u001b[39m.\u001b[39;49mfetch(index)  \u001b[39m# may raise StopIteration\u001b[39;00m\n\u001b[1;32m    672\u001b[0m     \u001b[39mif\u001b[39;00m \u001b[39mself\u001b[39m\u001b[39m.\u001b[39m_pin_memory:\n\u001b[1;32m    673\u001b[0m         data \u001b[39m=\u001b[39m _utils\u001b[39m.\u001b[39mpin_memory\u001b[39m.\u001b[39mpin_memory(data, \u001b[39mself\u001b[39m\u001b[39m.\u001b[39m_pin_memory_device)\n",
      "File \u001b[0;32m~/Projects/NFLBIGDATA/.venv/lib/python3.9/site-packages/torch/utils/data/_utils/fetch.py:58\u001b[0m, in \u001b[0;36m_MapDatasetFetcher.fetch\u001b[0;34m(self, possibly_batched_index)\u001b[0m\n\u001b[1;32m     56\u001b[0m         data \u001b[39m=\u001b[39m \u001b[39mself\u001b[39m\u001b[39m.\u001b[39mdataset\u001b[39m.\u001b[39m__getitems__(possibly_batched_index)\n\u001b[1;32m     57\u001b[0m     \u001b[39melse\u001b[39;00m:\n\u001b[0;32m---> 58\u001b[0m         data \u001b[39m=\u001b[39m [\u001b[39mself\u001b[39m\u001b[39m.\u001b[39mdataset[idx] \u001b[39mfor\u001b[39;00m idx \u001b[39min\u001b[39;00m possibly_batched_index]\n\u001b[1;32m     59\u001b[0m \u001b[39melse\u001b[39;00m:\n\u001b[1;32m     60\u001b[0m     data \u001b[39m=\u001b[39m \u001b[39mself\u001b[39m\u001b[39m.\u001b[39mdataset[possibly_batched_index]\n",
      "File \u001b[0;32m~/Projects/NFLBIGDATA/.venv/lib/python3.9/site-packages/torch/utils/data/_utils/fetch.py:58\u001b[0m, in \u001b[0;36m<listcomp>\u001b[0;34m(.0)\u001b[0m\n\u001b[1;32m     56\u001b[0m         data \u001b[39m=\u001b[39m \u001b[39mself\u001b[39m\u001b[39m.\u001b[39mdataset\u001b[39m.\u001b[39m__getitems__(possibly_batched_index)\n\u001b[1;32m     57\u001b[0m     \u001b[39melse\u001b[39;00m:\n\u001b[0;32m---> 58\u001b[0m         data \u001b[39m=\u001b[39m [\u001b[39mself\u001b[39;49m\u001b[39m.\u001b[39;49mdataset[idx] \u001b[39mfor\u001b[39;00m idx \u001b[39min\u001b[39;00m possibly_batched_index]\n\u001b[1;32m     59\u001b[0m \u001b[39melse\u001b[39;00m:\n\u001b[1;32m     60\u001b[0m     data \u001b[39m=\u001b[39m \u001b[39mself\u001b[39m\u001b[39m.\u001b[39mdataset[possibly_batched_index]\n",
      "File \u001b[0;32m~/Projects/NFLBIGDATA/src/datasets/traj_dataset.py:163\u001b[0m, in \u001b[0;36mTrajectoryDataset.__getitem__\u001b[0;34m(self, index)\u001b[0m\n\u001b[1;32m    161\u001b[0m \u001b[39mdef\u001b[39;00m \u001b[39m__getitem__\u001b[39m(\u001b[39mself\u001b[39m, index):\n\u001b[1;32m    162\u001b[0m     random_index \u001b[39m=\u001b[39m \u001b[39mself\u001b[39m\u001b[39m.\u001b[39mindexes[index]\n\u001b[0;32m--> 163\u001b[0m     \u001b[39mreturn\u001b[39;00m \u001b[39mself\u001b[39;49m\u001b[39m.\u001b[39;49m__process_data(random_index)\n",
      "File \u001b[0;32m~/Projects/NFLBIGDATA/src/datasets/traj_dataset.py:331\u001b[0m, in \u001b[0;36m__process_data\u001b[0;34m(self, index)\u001b[0m\n\u001b[1;32m    328\u001b[0m s_vals_rel \u001b[39m=\u001b[39m frame[[\u001b[39m\"\u001b[39m\u001b[39ms\u001b[39m\u001b[39m\"\u001b[39m]]\u001b[39m.\u001b[39mvalues \u001b[39m-\u001b[39m prev_features_df[[\u001b[39m\"\u001b[39m\u001b[39ms\u001b[39m\u001b[39m\"\u001b[39m]]\u001b[39m.\u001b[39mvalues\n\u001b[1;32m    329\u001b[0m a_vals_rel \u001b[39m=\u001b[39m frame[[\u001b[39m\"\u001b[39m\u001b[39ma\u001b[39m\u001b[39m\"\u001b[39m]]\u001b[39m.\u001b[39mvalues \u001b[39m-\u001b[39m prev_features_df[[\u001b[39m\"\u001b[39m\u001b[39ma\u001b[39m\u001b[39m\"\u001b[39m]]\u001b[39m.\u001b[39mvalues\n\u001b[0;32m--> 331\u001b[0m x_vals \u001b[39m=\u001b[39m frame[[\u001b[39m\"\u001b[39m\u001b[39mx\u001b[39m\u001b[39m\"\u001b[39m]]\u001b[39m.\u001b[39mvalues\n\u001b[1;32m    332\u001b[0m y_vals \u001b[39m=\u001b[39m frame[[\u001b[39m\"\u001b[39m\u001b[39my\u001b[39m\u001b[39m\"\u001b[39m]]\u001b[39m.\u001b[39mvalues\n\u001b[1;32m    333\u001b[0m s_vals \u001b[39m=\u001b[39m frame[[\u001b[39m\"\u001b[39m\u001b[39ms\u001b[39m\u001b[39m\"\u001b[39m]]\u001b[39m.\u001b[39mvalues\n",
      "File \u001b[0;32m~/Projects/NFLBIGDATA/.venv/lib/python3.9/site-packages/pandas/core/ops/common.py:81\u001b[0m, in \u001b[0;36m_unpack_zerodim_and_defer.<locals>.new_method\u001b[0;34m(self, other)\u001b[0m\n\u001b[1;32m     77\u001b[0m             \u001b[39mreturn\u001b[39;00m \u001b[39mNotImplemented\u001b[39m\n\u001b[1;32m     79\u001b[0m other \u001b[39m=\u001b[39m item_from_zerodim(other)\n\u001b[0;32m---> 81\u001b[0m \u001b[39mreturn\u001b[39;00m method(\u001b[39mself\u001b[39;49m, other)\n",
      "File \u001b[0;32m~/Projects/NFLBIGDATA/.venv/lib/python3.9/site-packages/pandas/core/arraylike.py:194\u001b[0m, in \u001b[0;36mOpsMixin.__sub__\u001b[0;34m(self, other)\u001b[0m\n\u001b[1;32m    192\u001b[0m \u001b[39m@unpack_zerodim_and_defer\u001b[39m(\u001b[39m\"\u001b[39m\u001b[39m__sub__\u001b[39m\u001b[39m\"\u001b[39m)\n\u001b[1;32m    193\u001b[0m \u001b[39mdef\u001b[39;00m \u001b[39m__sub__\u001b[39m(\u001b[39mself\u001b[39m, other):\n\u001b[0;32m--> 194\u001b[0m     \u001b[39mreturn\u001b[39;00m \u001b[39mself\u001b[39;49m\u001b[39m.\u001b[39;49m_arith_method(other, operator\u001b[39m.\u001b[39;49msub)\n",
      "File \u001b[0;32m~/Projects/NFLBIGDATA/.venv/lib/python3.9/site-packages/pandas/core/frame.py:7455\u001b[0m, in \u001b[0;36mDataFrame._arith_method\u001b[0;34m(self, other, op)\u001b[0m\n\u001b[1;32m   7452\u001b[0m axis: Literal[\u001b[39m1\u001b[39m] \u001b[39m=\u001b[39m \u001b[39m1\u001b[39m  \u001b[39m# only relevant for Series other case\u001b[39;00m\n\u001b[1;32m   7453\u001b[0m other \u001b[39m=\u001b[39m ops\u001b[39m.\u001b[39mmaybe_prepare_scalar_for_op(other, (\u001b[39mself\u001b[39m\u001b[39m.\u001b[39mshape[axis],))\n\u001b[0;32m-> 7455\u001b[0m \u001b[39mself\u001b[39m, other \u001b[39m=\u001b[39m ops\u001b[39m.\u001b[39;49malign_method_FRAME(\u001b[39mself\u001b[39;49m, other, axis, flex\u001b[39m=\u001b[39;49m\u001b[39mTrue\u001b[39;49;00m, level\u001b[39m=\u001b[39;49m\u001b[39mNone\u001b[39;49;00m)\n\u001b[1;32m   7457\u001b[0m new_data \u001b[39m=\u001b[39m \u001b[39mself\u001b[39m\u001b[39m.\u001b[39m_dispatch_frame_op(other, op, axis\u001b[39m=\u001b[39maxis)\n\u001b[1;32m   7458\u001b[0m \u001b[39mreturn\u001b[39;00m \u001b[39mself\u001b[39m\u001b[39m.\u001b[39m_construct_result(new_data)\n",
      "File \u001b[0;32m~/Projects/NFLBIGDATA/.venv/lib/python3.9/site-packages/pandas/core/ops/__init__.py:329\u001b[0m, in \u001b[0;36malign_method_FRAME\u001b[0;34m(left, right, axis, flex, level)\u001b[0m\n\u001b[1;32m    322\u001b[0m         \u001b[39mif\u001b[39;00m \u001b[39mnot\u001b[39;00m left\u001b[39m.\u001b[39maxes[axis]\u001b[39m.\u001b[39mequals(right\u001b[39m.\u001b[39mindex):\n\u001b[1;32m    323\u001b[0m             \u001b[39mraise\u001b[39;00m \u001b[39mValueError\u001b[39;00m(\n\u001b[1;32m    324\u001b[0m                 \u001b[39m\"\u001b[39m\u001b[39mOperands are not aligned. Do \u001b[39m\u001b[39m\"\u001b[39m\n\u001b[1;32m    325\u001b[0m                 \u001b[39m\"\u001b[39m\u001b[39m`left, right = left.align(right, axis=1, copy=False)` \u001b[39m\u001b[39m\"\u001b[39m\n\u001b[1;32m    326\u001b[0m                 \u001b[39m\"\u001b[39m\u001b[39mbefore operating.\u001b[39m\u001b[39m\"\u001b[39m\n\u001b[1;32m    327\u001b[0m             )\n\u001b[0;32m--> 329\u001b[0m     left, right \u001b[39m=\u001b[39m left\u001b[39m.\u001b[39;49malign(\n\u001b[1;32m    330\u001b[0m         right, join\u001b[39m=\u001b[39;49m\u001b[39m\"\u001b[39;49m\u001b[39mouter\u001b[39;49m\u001b[39m\"\u001b[39;49m, axis\u001b[39m=\u001b[39;49maxis, level\u001b[39m=\u001b[39;49mlevel, copy\u001b[39m=\u001b[39;49m\u001b[39mFalse\u001b[39;49;00m\n\u001b[1;32m    331\u001b[0m     )\n\u001b[1;32m    332\u001b[0m     right \u001b[39m=\u001b[39m _maybe_align_series_as_frame(left, right, axis)\n\u001b[1;32m    334\u001b[0m \u001b[39mreturn\u001b[39;00m left, right\n",
      "File \u001b[0;32m~/Projects/NFLBIGDATA/.venv/lib/python3.9/site-packages/pandas/core/frame.py:4984\u001b[0m, in \u001b[0;36mDataFrame.align\u001b[0;34m(self, other, join, axis, level, copy, fill_value, method, limit, fill_axis, broadcast_axis)\u001b[0m\n\u001b[1;32m   4970\u001b[0m \u001b[39m@doc\u001b[39m(NDFrame\u001b[39m.\u001b[39malign, \u001b[39m*\u001b[39m\u001b[39m*\u001b[39m_shared_doc_kwargs)\n\u001b[1;32m   4971\u001b[0m \u001b[39mdef\u001b[39;00m \u001b[39malign\u001b[39m(\n\u001b[1;32m   4972\u001b[0m     \u001b[39mself\u001b[39m,\n\u001b[0;32m   (...)\u001b[0m\n\u001b[1;32m   4982\u001b[0m     broadcast_axis: Axis \u001b[39m|\u001b[39m \u001b[39mNone\u001b[39;00m \u001b[39m=\u001b[39m \u001b[39mNone\u001b[39;00m,\n\u001b[1;32m   4983\u001b[0m ) \u001b[39m-\u001b[39m\u001b[39m>\u001b[39m DataFrame:\n\u001b[0;32m-> 4984\u001b[0m     \u001b[39mreturn\u001b[39;00m \u001b[39msuper\u001b[39;49m()\u001b[39m.\u001b[39;49malign(\n\u001b[1;32m   4985\u001b[0m         other,\n\u001b[1;32m   4986\u001b[0m         join\u001b[39m=\u001b[39;49mjoin,\n\u001b[1;32m   4987\u001b[0m         axis\u001b[39m=\u001b[39;49maxis,\n\u001b[1;32m   4988\u001b[0m         level\u001b[39m=\u001b[39;49mlevel,\n\u001b[1;32m   4989\u001b[0m         copy\u001b[39m=\u001b[39;49mcopy,\n\u001b[1;32m   4990\u001b[0m         fill_value\u001b[39m=\u001b[39;49mfill_value,\n\u001b[1;32m   4991\u001b[0m         method\u001b[39m=\u001b[39;49mmethod,\n\u001b[1;32m   4992\u001b[0m         limit\u001b[39m=\u001b[39;49mlimit,\n\u001b[1;32m   4993\u001b[0m         fill_axis\u001b[39m=\u001b[39;49mfill_axis,\n\u001b[1;32m   4994\u001b[0m         broadcast_axis\u001b[39m=\u001b[39;49mbroadcast_axis,\n\u001b[1;32m   4995\u001b[0m     )\n",
      "File \u001b[0;32m~/Projects/NFLBIGDATA/.venv/lib/python3.9/site-packages/pandas/core/generic.py:9449\u001b[0m, in \u001b[0;36mNDFrame.align\u001b[0;34m(self, other, join, axis, level, copy, fill_value, method, limit, fill_axis, broadcast_axis)\u001b[0m\n\u001b[1;32m   9437\u001b[0m     \u001b[39mreturn\u001b[39;00m \u001b[39mself\u001b[39m\u001b[39m.\u001b[39m_align_frame(\n\u001b[1;32m   9438\u001b[0m         other,\n\u001b[1;32m   9439\u001b[0m         join\u001b[39m=\u001b[39mjoin,\n\u001b[0;32m   (...)\u001b[0m\n\u001b[1;32m   9446\u001b[0m         fill_axis\u001b[39m=\u001b[39mfill_axis,\n\u001b[1;32m   9447\u001b[0m     )\n\u001b[1;32m   9448\u001b[0m \u001b[39melif\u001b[39;00m \u001b[39misinstance\u001b[39m(other, ABCSeries):\n\u001b[0;32m-> 9449\u001b[0m     \u001b[39mreturn\u001b[39;00m \u001b[39mself\u001b[39;49m\u001b[39m.\u001b[39;49m_align_series(\n\u001b[1;32m   9450\u001b[0m         other,\n\u001b[1;32m   9451\u001b[0m         join\u001b[39m=\u001b[39;49mjoin,\n\u001b[1;32m   9452\u001b[0m         axis\u001b[39m=\u001b[39;49maxis,\n\u001b[1;32m   9453\u001b[0m         level\u001b[39m=\u001b[39;49mlevel,\n\u001b[1;32m   9454\u001b[0m         copy\u001b[39m=\u001b[39;49mcopy,\n\u001b[1;32m   9455\u001b[0m         fill_value\u001b[39m=\u001b[39;49mfill_value,\n\u001b[1;32m   9456\u001b[0m         method\u001b[39m=\u001b[39;49mmethod,\n\u001b[1;32m   9457\u001b[0m         limit\u001b[39m=\u001b[39;49mlimit,\n\u001b[1;32m   9458\u001b[0m         fill_axis\u001b[39m=\u001b[39;49mfill_axis,\n\u001b[1;32m   9459\u001b[0m     )\n\u001b[1;32m   9460\u001b[0m \u001b[39melse\u001b[39;00m:  \u001b[39m# pragma: no cover\u001b[39;00m\n\u001b[1;32m   9461\u001b[0m     \u001b[39mraise\u001b[39;00m \u001b[39mTypeError\u001b[39;00m(\u001b[39mf\u001b[39m\u001b[39m\"\u001b[39m\u001b[39munsupported type: \u001b[39m\u001b[39m{\u001b[39;00m\u001b[39mtype\u001b[39m(other)\u001b[39m}\u001b[39;00m\u001b[39m\"\u001b[39m)\n",
      "File \u001b[0;32m~/Projects/NFLBIGDATA/.venv/lib/python3.9/site-packages/pandas/core/generic.py:9607\u001b[0m, in \u001b[0;36mNDFrame._align_series\u001b[0;34m(self, other, join, axis, level, copy, fill_value, method, limit, fill_axis)\u001b[0m\n\u001b[1;32m   9602\u001b[0m \u001b[39mif\u001b[39;00m is_series \u001b[39mor\u001b[39;00m (\u001b[39mnot\u001b[39;00m is_series \u001b[39mand\u001b[39;00m axis \u001b[39m==\u001b[39m \u001b[39m0\u001b[39m):\n\u001b[1;32m   9603\u001b[0m     left, right \u001b[39m=\u001b[39m _align_as_utc(left, right, join_index)\n\u001b[1;32m   9605\u001b[0m \u001b[39mreturn\u001b[39;00m (\n\u001b[1;32m   9606\u001b[0m     left\u001b[39m.\u001b[39m__finalize__(\u001b[39mself\u001b[39m),\n\u001b[0;32m-> 9607\u001b[0m     right\u001b[39m.\u001b[39;49m__finalize__(other),\n\u001b[1;32m   9608\u001b[0m )\n",
      "File \u001b[0;32m~/Projects/NFLBIGDATA/.venv/lib/python3.9/site-packages/pandas/core/generic.py:5959\u001b[0m, in \u001b[0;36mNDFrame.__finalize__\u001b[0;34m(self, other, method, **kwargs)\u001b[0m\n\u001b[1;32m   5957\u001b[0m     \u001b[39mfor\u001b[39;00m name \u001b[39min\u001b[39;00m \u001b[39mset\u001b[39m(\u001b[39mself\u001b[39m\u001b[39m.\u001b[39m_metadata) \u001b[39m&\u001b[39m \u001b[39mset\u001b[39m(other\u001b[39m.\u001b[39m_metadata):\n\u001b[1;32m   5958\u001b[0m         \u001b[39massert\u001b[39;00m \u001b[39misinstance\u001b[39m(name, \u001b[39mstr\u001b[39m)\n\u001b[0;32m-> 5959\u001b[0m         \u001b[39mobject\u001b[39;49m\u001b[39m.\u001b[39;49m\u001b[39m__setattr__\u001b[39;49m(\u001b[39mself\u001b[39;49m, name, \u001b[39mgetattr\u001b[39;49m(other, name, \u001b[39mNone\u001b[39;49;00m))\n\u001b[1;32m   5961\u001b[0m \u001b[39mif\u001b[39;00m method \u001b[39m==\u001b[39m \u001b[39m\"\u001b[39m\u001b[39mconcat\u001b[39m\u001b[39m\"\u001b[39m:\n\u001b[1;32m   5962\u001b[0m     attrs \u001b[39m=\u001b[39m other\u001b[39m.\u001b[39mobjs[\u001b[39m0\u001b[39m]\u001b[39m.\u001b[39mattrs\n",
      "File \u001b[0;32m~/Projects/NFLBIGDATA/.venv/lib/python3.9/site-packages/pandas/core/series.py:673\u001b[0m, in \u001b[0;36mSeries.name\u001b[0;34m(self, value)\u001b[0m\n\u001b[1;32m    671\u001b[0m \u001b[39m@name\u001b[39m\u001b[39m.\u001b[39msetter\n\u001b[1;32m    672\u001b[0m \u001b[39mdef\u001b[39;00m \u001b[39mname\u001b[39m(\u001b[39mself\u001b[39m, value: Hashable) \u001b[39m-\u001b[39m\u001b[39m>\u001b[39m \u001b[39mNone\u001b[39;00m:\n\u001b[0;32m--> 673\u001b[0m     validate_all_hashable(value, error_name\u001b[39m=\u001b[39;49m\u001b[39mf\u001b[39;49m\u001b[39m\"\u001b[39;49m\u001b[39m{\u001b[39;49;00m\u001b[39mtype\u001b[39;49m(\u001b[39mself\u001b[39;49m)\u001b[39m.\u001b[39;49m\u001b[39m__name__\u001b[39;49m\u001b[39m}\u001b[39;49;00m\u001b[39m.name\u001b[39;49m\u001b[39m\"\u001b[39;49m)\n\u001b[1;32m    674\u001b[0m     \u001b[39mobject\u001b[39m\u001b[39m.\u001b[39m\u001b[39m__setattr__\u001b[39m(\u001b[39mself\u001b[39m, \u001b[39m\"\u001b[39m\u001b[39m_name\u001b[39m\u001b[39m\"\u001b[39m, value)\n",
      "File \u001b[0;32m~/Projects/NFLBIGDATA/.venv/lib/python3.9/site-packages/pandas/core/dtypes/common.py:1650\u001b[0m, in \u001b[0;36mvalidate_all_hashable\u001b[0;34m(error_name, *args)\u001b[0m\n\u001b[1;32m   1631\u001b[0m \u001b[39mdef\u001b[39;00m \u001b[39mvalidate_all_hashable\u001b[39m(\u001b[39m*\u001b[39margs, error_name: \u001b[39mstr\u001b[39m \u001b[39m|\u001b[39m \u001b[39mNone\u001b[39;00m \u001b[39m=\u001b[39m \u001b[39mNone\u001b[39;00m) \u001b[39m-\u001b[39m\u001b[39m>\u001b[39m \u001b[39mNone\u001b[39;00m:\n\u001b[1;32m   1632\u001b[0m \u001b[39m    \u001b[39m\u001b[39m\"\"\"\u001b[39;00m\n\u001b[1;32m   1633\u001b[0m \u001b[39m    Return None if all args are hashable, else raise a TypeError.\u001b[39;00m\n\u001b[1;32m   1634\u001b[0m \n\u001b[0;32m   (...)\u001b[0m\n\u001b[1;32m   1648\u001b[0m \u001b[39m    None\u001b[39;00m\n\u001b[1;32m   1649\u001b[0m \u001b[39m    \"\"\"\u001b[39;00m\n\u001b[0;32m-> 1650\u001b[0m     \u001b[39mif\u001b[39;00m \u001b[39mnot\u001b[39;00m \u001b[39mall\u001b[39m(is_hashable(arg) \u001b[39mfor\u001b[39;00m arg \u001b[39min\u001b[39;00m args):\n\u001b[1;32m   1651\u001b[0m         \u001b[39mif\u001b[39;00m error_name:\n\u001b[1;32m   1652\u001b[0m             \u001b[39mraise\u001b[39;00m \u001b[39mTypeError\u001b[39;00m(\u001b[39mf\u001b[39m\u001b[39m\"\u001b[39m\u001b[39m{\u001b[39;00merror_name\u001b[39m}\u001b[39;00m\u001b[39m must be a hashable type\u001b[39m\u001b[39m\"\u001b[39m)\n",
      "\u001b[0;31mKeyboardInterrupt\u001b[0m: "
     ]
    }
   ],
   "source": [
    "from src.metrics import compute_bivariate_params\n",
    "\n",
    "for batch in dataloader:\n",
    "\n",
    "    V_obs, A_obs, obs_traj = batch[\"data\"]\n",
    "    truth_labels = batch[\"labels\"]\n",
    "    if torch.isnan(truth_labels[\"node_index\"]).any() or torch.isnan(truth_labels[\"node_index\"]).any():\n",
    "        print(f\"node\")\n",
    "    if torch.isnan(truth_labels[\"event_type\"]).any() or torch.isnan(truth_labels[\"event_type\"]).any():\n",
    "        print(\"event\")"
   ]
  },
  {
   "cell_type": "code",
   "execution_count": 12,
   "metadata": {},
   "outputs": [
    {
     "name": "stdout",
     "output_type": "stream",
     "text": [
      "tensor([ 0.6323,  0.2734, -0.1010, -0.4646, -0.1336,  0.7126,  0.0680,  0.0769,\n",
      "         0.2203,  0.0000,  0.0000,  0.0000,  6.0000,  0.8000,  0.2500,     nan,\n",
      "         0.5417,  0.0000,  0.0000,  0.0000,  0.0000])\n"
     ]
    }
   ],
   "source": [
    "traj = sample['labels']['trajectory']\n",
    "print(traj[0, 0, 0, :])"
   ]
  },
  {
   "cell_type": "code",
   "execution_count": 10,
   "metadata": {},
   "outputs": [
    {
     "name": "stdout",
     "output_type": "stream",
     "text": [
      "tensor(0.2945)\n"
     ]
    }
   ],
   "source": [
    "print(traj[0, 0, 0, 0])"
   ]
  },
  {
   "cell_type": "code",
   "execution_count": 2,
   "metadata": {},
   "outputs": [
    {
     "name": "stdout",
     "output_type": "stream",
     "text": [
      "tensor([0.7000])\n"
     ]
    }
   ],
   "source": [
    "import torch\n",
    "tensor = torch.Tensor([[0.1, 0.7]])\n",
    "print(tensor[tensor > 0.5])"
   ]
  },
  {
   "cell_type": "code",
   "execution_count": null,
   "metadata": {},
   "outputs": [],
   "source": []
  }
 ],
 "metadata": {
  "kernelspec": {
   "display_name": ".venv",
   "language": "python",
   "name": "python3"
  },
  "language_info": {
   "codemirror_mode": {
    "name": "ipython",
    "version": 3
   },
   "file_extension": ".py",
   "mimetype": "text/x-python",
   "name": "python",
   "nbconvert_exporter": "python",
   "pygments_lexer": "ipython3",
   "version": "3.9.7"
  },
  "orig_nbformat": 4,
  "vscode": {
   "interpreter": {
    "hash": "7060df42213b144db81061398611e0e5cb9eef953978b054391177d859ea8ffe"
   }
  }
 },
 "nbformat": 4,
 "nbformat_minor": 2
}
