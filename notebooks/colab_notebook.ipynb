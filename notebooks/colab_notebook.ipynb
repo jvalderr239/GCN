{
 "cells": [
  {
   "cell_type": "code",
   "execution_count": null,
   "metadata": {},
   "outputs": [],
   "source": [
    "try:\n",
    "    from google.colab import drive\n",
    "    drive.mount(\"/content/drive/\", force_remount=True)\n",
    "    google_drive_prefix = \"/content/drive/My Drive\"\n",
    "    data_prefix = \"{}/NFLBIGDATA/\".format(google_drive_prefix)\n",
    "except ModuleNotFoundError: \n",
    "    data_prefix = \"data/\""
   ]
  },
  {
   "cell_type": "code",
   "execution_count": null,
   "metadata": {},
   "outputs": [],
   "source": [
    "!pip install -e /content/NFLBIGDATA"
   ]
  },
  {
   "cell_type": "code",
   "execution_count": null,
   "metadata": {},
   "outputs": [],
   "source": [
    "!python NFLBIGDATA/scripts/train.py --epochs 1 --batch_size 2 --root_dir ./drive/MyDrive/NFLBIGDATA/ --dest_dir ./results"
   ]
  }
 ],
 "metadata": {
  "kernelspec": {
   "display_name": ".venv",
   "language": "python",
   "name": "python3"
  },
  "language_info": {
   "name": "python",
   "version": "3.9.7"
  },
  "orig_nbformat": 4,
  "vscode": {
   "interpreter": {
    "hash": "7060df42213b144db81061398611e0e5cb9eef953978b054391177d859ea8ffe"
   }
  }
 },
 "nbformat": 4,
 "nbformat_minor": 2
}
