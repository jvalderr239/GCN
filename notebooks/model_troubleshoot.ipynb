{
 "cells": [
  {
   "cell_type": "code",
   "execution_count": 1,
   "metadata": {},
   "outputs": [],
   "source": [
    "from src.models.social_collision_stgcnn import SOCIAL_COLLISION_STGCNN as model"
   ]
  },
  {
   "cell_type": "code",
   "execution_count": 2,
   "metadata": {},
   "outputs": [
    {
     "name": "stdout",
     "output_type": "stream",
     "text": [
      "torch.Size([2, 17, 56, 22])\n",
      "torch.Size([56, 22, 22])\n"
     ]
    }
   ],
   "source": [
    "import torch\n",
    "import numpy as np\n",
    "\n",
    "sample = torch.Tensor(np.ones(\n",
    "    (2, 17, 56, 22)\n",
    "))\n",
    "\n",
    "batch, num_features, seq_len, num_nodes = sample.size()\n",
    "a_sample = torch.Tensor(np.ones(\n",
    "    (seq_len, 22, 22)\n",
    "))\n",
    "print(sample.size())\n",
    "print(a_sample.size())"
   ]
  },
  {
   "cell_type": "code",
   "execution_count": 3,
   "metadata": {},
   "outputs": [
    {
     "name": "stdout",
     "output_type": "stream",
     "text": [
      "2023-12-15 21:49:25,054 - src.models.social_collision_stgcnn - INFO - Constructing 1 spatial layers\n",
      "2023-12-15 21:49:25,061 - src.models.social_collision_stgcnn - INFO - Constructing 1 temporal layers\n",
      "2023-12-15 21:49:25,064 - src.models.social_collision_stgcnn - INFO - Built cnn model for prediction\n"
     ]
    }
   ],
   "source": [
    "\n",
    "m = model(\n",
    "    cnn=None,\n",
    "    num_events=3,\n",
    "    num_nodes=22,\n",
    "    input_feat=num_features,\n",
    "    kernel_size=5,\n",
    "    seq_len=seq_len,\n",
    "    pretrained=False\n",
    ")"
   ]
  },
  {
   "cell_type": "code",
   "execution_count": 4,
   "metadata": {},
   "outputs": [],
   "source": [
    "v, a, simo = m(sample, a_sample)"
   ]
  },
  {
   "cell_type": "code",
   "execution_count": 5,
   "metadata": {},
   "outputs": [
    {
     "name": "stdout",
     "output_type": "stream",
     "text": [
      "{'event_type': tensor([[0.5078, 0.5210, 0.5122],\n",
      "        [0.5078, 0.5210, 0.5122]], grad_fn=<SigmoidBackward0>), 'node_index': tensor([[-0.0734, -0.0226,  0.1116,  0.1045,  0.1029,  0.0313,  0.1084,  0.1217,\n",
      "         -0.0018, -0.0187, -0.0367,  0.0188, -0.0671, -0.0487, -0.0104,  0.0423,\n",
      "          0.0428,  0.0799,  0.0525, -0.1200,  0.0381, -0.0136],\n",
      "        [-0.0734, -0.0226,  0.1116,  0.1045,  0.1029,  0.0313,  0.1084,  0.1217,\n",
      "         -0.0018, -0.0187, -0.0367,  0.0188, -0.0671, -0.0487, -0.0104,  0.0423,\n",
      "          0.0428,  0.0799,  0.0525, -0.1200,  0.0381, -0.0136]],\n",
      "       grad_fn=<AddmmBackward0>), 'time_of_attack': tensor([[0.1204, 0.0553, 0.0000],\n",
      "        [0.1204, 0.0553, 0.0000]], grad_fn=<ReluBackward0>)}\n"
     ]
    }
   ],
   "source": [
    "print(simo)"
   ]
  },
  {
   "cell_type": "code",
   "execution_count": null,
   "metadata": {},
   "outputs": [],
   "source": []
  }
 ],
 "metadata": {
  "kernelspec": {
   "display_name": ".venv",
   "language": "python",
   "name": "python3"
  },
  "language_info": {
   "codemirror_mode": {
    "name": "ipython",
    "version": 3
   },
   "file_extension": ".py",
   "mimetype": "text/x-python",
   "name": "python",
   "nbconvert_exporter": "python",
   "pygments_lexer": "ipython3",
   "version": "3.9.7"
  },
  "orig_nbformat": 4,
  "vscode": {
   "interpreter": {
    "hash": "7060df42213b144db81061398611e0e5cb9eef953978b054391177d859ea8ffe"
   }
  }
 },
 "nbformat": 4,
 "nbformat_minor": 2
}
