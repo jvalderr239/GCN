{
 "cells": [
  {
   "cell_type": "code",
   "execution_count": 1,
   "metadata": {},
   "outputs": [],
   "source": [
    "from src.models.social_collision_stgcnn import SOCIAL_COLLISION_STGCNN as model"
   ]
  },
  {
   "cell_type": "code",
   "execution_count": 2,
   "metadata": {},
   "outputs": [
    {
     "name": "stdout",
     "output_type": "stream",
     "text": [
      "torch.Size([2, 17, 56, 22])\n",
      "torch.Size([56, 22, 22])\n"
     ]
    }
   ],
   "source": [
    "import torch\n",
    "import numpy as np\n",
    "\n",
    "sample = torch.Tensor(np.ones(\n",
    "    (2, 17, 56, 22)\n",
    "))\n",
    "\n",
    "batch, num_features, seq_len, num_nodes = sample.size()\n",
    "a_sample = torch.Tensor(np.ones(\n",
    "    (seq_len, 22, 22)\n",
    "))\n",
    "print(sample.size())\n",
    "print(a_sample.size())"
   ]
  },
  {
   "cell_type": "code",
   "execution_count": 3,
   "metadata": {},
   "outputs": [
    {
     "name": "stderr",
     "output_type": "stream",
     "text": [
      "/Users/josevalderrama/Projects/NFLBIGDATA/.venv/lib/python3.9/site-packages/torchvision/models/_utils.py:223: UserWarning: Arguments other than a weight enum or `None` for 'weights' are deprecated since 0.13 and may be removed in the future. The current behavior is equivalent to passing `weights=None`.\n",
      "  warnings.warn(msg)\n",
      "[W NNPACK.cpp:53] Could not initialize NNPACK! Reason: Unsupported hardware.\n"
     ]
    },
    {
     "ename": "RuntimeError",
     "evalue": "Given input size: (512x3x1). Calculated output size: (512x1x0). Output size is too small",
     "output_type": "error",
     "traceback": [
      "\u001b[0;31m---------------------------------------------------------------------------\u001b[0m",
      "\u001b[0;31mRuntimeError\u001b[0m                              Traceback (most recent call last)",
      "Cell \u001b[0;32mIn[3], line 1\u001b[0m\n\u001b[0;32m----> 1\u001b[0m m \u001b[39m=\u001b[39m model(\n\u001b[1;32m      2\u001b[0m     cnn\u001b[39m=\u001b[39;49m\u001b[39m\"\u001b[39;49m\u001b[39mvgg16\u001b[39;49m\u001b[39m\"\u001b[39;49m,\n\u001b[1;32m      3\u001b[0m     num_events\u001b[39m=\u001b[39;49m\u001b[39m3\u001b[39;49m,\n\u001b[1;32m      4\u001b[0m     input_feat\u001b[39m=\u001b[39;49mnum_features,\n\u001b[1;32m      5\u001b[0m     kernel_size\u001b[39m=\u001b[39;49m\u001b[39m5\u001b[39;49m,\n\u001b[1;32m      6\u001b[0m     seq_len\u001b[39m=\u001b[39;49mseq_len,\n\u001b[1;32m      7\u001b[0m     pretrained\u001b[39m=\u001b[39;49m\u001b[39mFalse\u001b[39;49;00m\n\u001b[1;32m      8\u001b[0m )\n",
      "File \u001b[0;32m~/Projects/NFLBIGDATA/src/models/social_collision_stgcnn.py:64\u001b[0m, in \u001b[0;36mSOCIAL_COLLISION_STGCNN.__init__\u001b[0;34m(self, num_events, n_stgcnn, n_txpcnn, input_feat, output_feat, seq_len, pred_seq_len, kernel_size, cnn, pretrained, cnn_dropout, **kwargs)\u001b[0m\n\u001b[1;32m     60\u001b[0m \u001b[39mfor\u001b[39;00m _ \u001b[39min\u001b[39;00m \u001b[39mrange\u001b[39m(\u001b[39mself\u001b[39m\u001b[39m.\u001b[39mn_txpcnn):\n\u001b[1;32m     61\u001b[0m     \u001b[39mself\u001b[39m\u001b[39m.\u001b[39mprelus\u001b[39m.\u001b[39mappend(nn\u001b[39m.\u001b[39mPReLU())\n\u001b[1;32m     63\u001b[0m \u001b[39mself\u001b[39m\u001b[39m.\u001b[39mcnn \u001b[39m=\u001b[39m (\n\u001b[0;32m---> 64\u001b[0m     PRETRAINED_EVENT_PREDICTOR_CNN(\n\u001b[1;32m     65\u001b[0m         in_channels\u001b[39m=\u001b[39;49moutput_feat,\n\u001b[1;32m     66\u001b[0m         name\u001b[39m=\u001b[39;49mcnn,\n\u001b[1;32m     67\u001b[0m         pretrained\u001b[39m=\u001b[39;49mpretrained,\n\u001b[1;32m     68\u001b[0m         num_events\u001b[39m=\u001b[39;49mnum_events,\n\u001b[1;32m     69\u001b[0m         dropout\u001b[39m=\u001b[39;49mcnn_dropout,\n\u001b[1;32m     70\u001b[0m     )\n\u001b[1;32m     71\u001b[0m     \u001b[39mif\u001b[39;00m cnn \u001b[39mis\u001b[39;00m \u001b[39mnot\u001b[39;00m \u001b[39mNone\u001b[39;00m\n\u001b[1;32m     72\u001b[0m     \u001b[39melse\u001b[39;00m EVENT_PREDICTOR_CNN(\n\u001b[1;32m     73\u001b[0m         in_channels\u001b[39m=\u001b[39moutput_feat,\n\u001b[1;32m     74\u001b[0m         num_events\u001b[39m=\u001b[39mnum_events,\n\u001b[1;32m     75\u001b[0m         dropout\u001b[39m=\u001b[39mcnn_dropout,\n\u001b[1;32m     76\u001b[0m     )\n\u001b[1;32m     77\u001b[0m )\n",
      "File \u001b[0;32m~/Projects/NFLBIGDATA/src/models/cnn.py:91\u001b[0m, in \u001b[0;36mPRETRAINED_EVENT_PREDICTOR_CNN.__init__\u001b[0;34m(self, in_channels, name, pretrained, num_events, kernel_size, dropout)\u001b[0m\n\u001b[1;32m     80\u001b[0m \u001b[39mdef\u001b[39;00m \u001b[39m__init__\u001b[39m(\n\u001b[1;32m     81\u001b[0m     \u001b[39mself\u001b[39m,\n\u001b[1;32m     82\u001b[0m     in_channels: \u001b[39mint\u001b[39m,\n\u001b[0;32m   (...)\u001b[0m\n\u001b[1;32m     87\u001b[0m     dropout: \u001b[39mfloat\u001b[39m \u001b[39m=\u001b[39m \u001b[39m0.3\u001b[39m,\n\u001b[1;32m     88\u001b[0m ):\n\u001b[1;32m     89\u001b[0m     \u001b[39msuper\u001b[39m(PRETRAINED_EVENT_PREDICTOR_CNN, \u001b[39mself\u001b[39m)\u001b[39m.\u001b[39m\u001b[39m__init__\u001b[39m()\n\u001b[0;32m---> 91\u001b[0m     \u001b[39mself\u001b[39m\u001b[39m.\u001b[39mcnn, cnn_output_dim \u001b[39m=\u001b[39m \u001b[39mself\u001b[39;49m\u001b[39m.\u001b[39;49m_get_base_model(\n\u001b[1;32m     92\u001b[0m         name\u001b[39m=\u001b[39;49mname\u001b[39m.\u001b[39;49mlower(), \n\u001b[1;32m     93\u001b[0m         pretrained\u001b[39m=\u001b[39;49mpretrained,\n\u001b[1;32m     94\u001b[0m         in_channels\u001b[39m=\u001b[39;49min_channels,\n\u001b[1;32m     95\u001b[0m         kernel_size\u001b[39m=\u001b[39;49mkernel_size,\n\u001b[1;32m     96\u001b[0m         )\n\u001b[1;32m     97\u001b[0m     \u001b[39mself\u001b[39m\u001b[39m.\u001b[39mevent_type_fc \u001b[39m=\u001b[39m nn\u001b[39m.\u001b[39mSequential(\n\u001b[1;32m     98\u001b[0m         nn\u001b[39m.\u001b[39mDropout(p\u001b[39m=\u001b[39mdropout),\n\u001b[1;32m     99\u001b[0m         nn\u001b[39m.\u001b[39mLinear(in_features\u001b[39m=\u001b[39mcnn_output_dim, out_features\u001b[39m=\u001b[39mnum_events),\n\u001b[1;32m    100\u001b[0m         nn\u001b[39m.\u001b[39mSigmoid(),\n\u001b[1;32m    101\u001b[0m     )\n\u001b[1;32m    102\u001b[0m     \u001b[39mself\u001b[39m\u001b[39m.\u001b[39mnode_index_fc \u001b[39m=\u001b[39m nn\u001b[39m.\u001b[39mSequential(\n\u001b[1;32m    103\u001b[0m         nn\u001b[39m.\u001b[39mDropout(p\u001b[39m=\u001b[39mdropout), nn\u001b[39m.\u001b[39mLinear(in_features\u001b[39m=\u001b[39mcnn_output_dim, out_features\u001b[39m=\u001b[39m\u001b[39m1\u001b[39m)\n\u001b[1;32m    104\u001b[0m     )\n",
      "File \u001b[0;32m~/Projects/NFLBIGDATA/src/models/cnn.py:153\u001b[0m, in \u001b[0;36mPRETRAINED_EVENT_PREDICTOR_CNN._get_base_model\u001b[0;34m(self, name, pretrained, in_channels, kernel_size)\u001b[0m\n\u001b[1;32m    151\u001b[0m \u001b[39m# get output shape\u001b[39;00m\n\u001b[1;32m    152\u001b[0m x \u001b[39m=\u001b[39m randn(\u001b[39m1\u001b[39m, in_channels, \u001b[39m56\u001b[39m, \u001b[39m22\u001b[39m)\n\u001b[0;32m--> 153\u001b[0m output_dim \u001b[39m=\u001b[39m base_model(x)\u001b[39m.\u001b[39msize(\u001b[39m1\u001b[39m)\n\u001b[1;32m    154\u001b[0m \u001b[39mprint\u001b[39m(\u001b[39mf\u001b[39m\u001b[39m\"\u001b[39m\u001b[39m{\u001b[39;00moutput_dim\u001b[39m}\u001b[39;00m\u001b[39m\"\u001b[39m)\n\u001b[1;32m    155\u001b[0m \u001b[39m# If output dim is too small\u001b[39;00m\n",
      "File \u001b[0;32m~/Projects/NFLBIGDATA/.venv/lib/python3.9/site-packages/torch/nn/modules/module.py:1194\u001b[0m, in \u001b[0;36mModule._call_impl\u001b[0;34m(self, *input, **kwargs)\u001b[0m\n\u001b[1;32m   1190\u001b[0m \u001b[39m# If we don't have any hooks, we want to skip the rest of the logic in\u001b[39;00m\n\u001b[1;32m   1191\u001b[0m \u001b[39m# this function, and just call forward.\u001b[39;00m\n\u001b[1;32m   1192\u001b[0m \u001b[39mif\u001b[39;00m \u001b[39mnot\u001b[39;00m (\u001b[39mself\u001b[39m\u001b[39m.\u001b[39m_backward_hooks \u001b[39mor\u001b[39;00m \u001b[39mself\u001b[39m\u001b[39m.\u001b[39m_forward_hooks \u001b[39mor\u001b[39;00m \u001b[39mself\u001b[39m\u001b[39m.\u001b[39m_forward_pre_hooks \u001b[39mor\u001b[39;00m _global_backward_hooks\n\u001b[1;32m   1193\u001b[0m         \u001b[39mor\u001b[39;00m _global_forward_hooks \u001b[39mor\u001b[39;00m _global_forward_pre_hooks):\n\u001b[0;32m-> 1194\u001b[0m     \u001b[39mreturn\u001b[39;00m forward_call(\u001b[39m*\u001b[39;49m\u001b[39minput\u001b[39;49m, \u001b[39m*\u001b[39;49m\u001b[39m*\u001b[39;49mkwargs)\n\u001b[1;32m   1195\u001b[0m \u001b[39m# Do not call functions when jit is used\u001b[39;00m\n\u001b[1;32m   1196\u001b[0m full_backward_hooks, non_full_backward_hooks \u001b[39m=\u001b[39m [], []\n",
      "File \u001b[0;32m~/Projects/NFLBIGDATA/.venv/lib/python3.9/site-packages/torch/nn/modules/container.py:204\u001b[0m, in \u001b[0;36mSequential.forward\u001b[0;34m(self, input)\u001b[0m\n\u001b[1;32m    202\u001b[0m \u001b[39mdef\u001b[39;00m \u001b[39mforward\u001b[39m(\u001b[39mself\u001b[39m, \u001b[39minput\u001b[39m):\n\u001b[1;32m    203\u001b[0m     \u001b[39mfor\u001b[39;00m module \u001b[39min\u001b[39;00m \u001b[39mself\u001b[39m:\n\u001b[0;32m--> 204\u001b[0m         \u001b[39minput\u001b[39m \u001b[39m=\u001b[39m module(\u001b[39minput\u001b[39;49m)\n\u001b[1;32m    205\u001b[0m     \u001b[39mreturn\u001b[39;00m \u001b[39minput\u001b[39m\n",
      "File \u001b[0;32m~/Projects/NFLBIGDATA/.venv/lib/python3.9/site-packages/torch/nn/modules/module.py:1194\u001b[0m, in \u001b[0;36mModule._call_impl\u001b[0;34m(self, *input, **kwargs)\u001b[0m\n\u001b[1;32m   1190\u001b[0m \u001b[39m# If we don't have any hooks, we want to skip the rest of the logic in\u001b[39;00m\n\u001b[1;32m   1191\u001b[0m \u001b[39m# this function, and just call forward.\u001b[39;00m\n\u001b[1;32m   1192\u001b[0m \u001b[39mif\u001b[39;00m \u001b[39mnot\u001b[39;00m (\u001b[39mself\u001b[39m\u001b[39m.\u001b[39m_backward_hooks \u001b[39mor\u001b[39;00m \u001b[39mself\u001b[39m\u001b[39m.\u001b[39m_forward_hooks \u001b[39mor\u001b[39;00m \u001b[39mself\u001b[39m\u001b[39m.\u001b[39m_forward_pre_hooks \u001b[39mor\u001b[39;00m _global_backward_hooks\n\u001b[1;32m   1193\u001b[0m         \u001b[39mor\u001b[39;00m _global_forward_hooks \u001b[39mor\u001b[39;00m _global_forward_pre_hooks):\n\u001b[0;32m-> 1194\u001b[0m     \u001b[39mreturn\u001b[39;00m forward_call(\u001b[39m*\u001b[39;49m\u001b[39minput\u001b[39;49m, \u001b[39m*\u001b[39;49m\u001b[39m*\u001b[39;49mkwargs)\n\u001b[1;32m   1195\u001b[0m \u001b[39m# Do not call functions when jit is used\u001b[39;00m\n\u001b[1;32m   1196\u001b[0m full_backward_hooks, non_full_backward_hooks \u001b[39m=\u001b[39m [], []\n",
      "File \u001b[0;32m~/Projects/NFLBIGDATA/.venv/lib/python3.9/site-packages/torch/nn/modules/container.py:204\u001b[0m, in \u001b[0;36mSequential.forward\u001b[0;34m(self, input)\u001b[0m\n\u001b[1;32m    202\u001b[0m \u001b[39mdef\u001b[39;00m \u001b[39mforward\u001b[39m(\u001b[39mself\u001b[39m, \u001b[39minput\u001b[39m):\n\u001b[1;32m    203\u001b[0m     \u001b[39mfor\u001b[39;00m module \u001b[39min\u001b[39;00m \u001b[39mself\u001b[39m:\n\u001b[0;32m--> 204\u001b[0m         \u001b[39minput\u001b[39m \u001b[39m=\u001b[39m module(\u001b[39minput\u001b[39;49m)\n\u001b[1;32m    205\u001b[0m     \u001b[39mreturn\u001b[39;00m \u001b[39minput\u001b[39m\n",
      "File \u001b[0;32m~/Projects/NFLBIGDATA/.venv/lib/python3.9/site-packages/torch/nn/modules/module.py:1194\u001b[0m, in \u001b[0;36mModule._call_impl\u001b[0;34m(self, *input, **kwargs)\u001b[0m\n\u001b[1;32m   1190\u001b[0m \u001b[39m# If we don't have any hooks, we want to skip the rest of the logic in\u001b[39;00m\n\u001b[1;32m   1191\u001b[0m \u001b[39m# this function, and just call forward.\u001b[39;00m\n\u001b[1;32m   1192\u001b[0m \u001b[39mif\u001b[39;00m \u001b[39mnot\u001b[39;00m (\u001b[39mself\u001b[39m\u001b[39m.\u001b[39m_backward_hooks \u001b[39mor\u001b[39;00m \u001b[39mself\u001b[39m\u001b[39m.\u001b[39m_forward_hooks \u001b[39mor\u001b[39;00m \u001b[39mself\u001b[39m\u001b[39m.\u001b[39m_forward_pre_hooks \u001b[39mor\u001b[39;00m _global_backward_hooks\n\u001b[1;32m   1193\u001b[0m         \u001b[39mor\u001b[39;00m _global_forward_hooks \u001b[39mor\u001b[39;00m _global_forward_pre_hooks):\n\u001b[0;32m-> 1194\u001b[0m     \u001b[39mreturn\u001b[39;00m forward_call(\u001b[39m*\u001b[39;49m\u001b[39minput\u001b[39;49m, \u001b[39m*\u001b[39;49m\u001b[39m*\u001b[39;49mkwargs)\n\u001b[1;32m   1195\u001b[0m \u001b[39m# Do not call functions when jit is used\u001b[39;00m\n\u001b[1;32m   1196\u001b[0m full_backward_hooks, non_full_backward_hooks \u001b[39m=\u001b[39m [], []\n",
      "File \u001b[0;32m~/Projects/NFLBIGDATA/.venv/lib/python3.9/site-packages/torch/nn/modules/pooling.py:166\u001b[0m, in \u001b[0;36mMaxPool2d.forward\u001b[0;34m(self, input)\u001b[0m\n\u001b[1;32m    165\u001b[0m \u001b[39mdef\u001b[39;00m \u001b[39mforward\u001b[39m(\u001b[39mself\u001b[39m, \u001b[39minput\u001b[39m: Tensor):\n\u001b[0;32m--> 166\u001b[0m     \u001b[39mreturn\u001b[39;00m F\u001b[39m.\u001b[39;49mmax_pool2d(\u001b[39minput\u001b[39;49m, \u001b[39mself\u001b[39;49m\u001b[39m.\u001b[39;49mkernel_size, \u001b[39mself\u001b[39;49m\u001b[39m.\u001b[39;49mstride,\n\u001b[1;32m    167\u001b[0m                         \u001b[39mself\u001b[39;49m\u001b[39m.\u001b[39;49mpadding, \u001b[39mself\u001b[39;49m\u001b[39m.\u001b[39;49mdilation, ceil_mode\u001b[39m=\u001b[39;49m\u001b[39mself\u001b[39;49m\u001b[39m.\u001b[39;49mceil_mode,\n\u001b[1;32m    168\u001b[0m                         return_indices\u001b[39m=\u001b[39;49m\u001b[39mself\u001b[39;49m\u001b[39m.\u001b[39;49mreturn_indices)\n",
      "File \u001b[0;32m~/Projects/NFLBIGDATA/.venv/lib/python3.9/site-packages/torch/_jit_internal.py:485\u001b[0m, in \u001b[0;36mboolean_dispatch.<locals>.fn\u001b[0;34m(*args, **kwargs)\u001b[0m\n\u001b[1;32m    483\u001b[0m     \u001b[39mreturn\u001b[39;00m if_true(\u001b[39m*\u001b[39margs, \u001b[39m*\u001b[39m\u001b[39m*\u001b[39mkwargs)\n\u001b[1;32m    484\u001b[0m \u001b[39melse\u001b[39;00m:\n\u001b[0;32m--> 485\u001b[0m     \u001b[39mreturn\u001b[39;00m if_false(\u001b[39m*\u001b[39;49margs, \u001b[39m*\u001b[39;49m\u001b[39m*\u001b[39;49mkwargs)\n",
      "File \u001b[0;32m~/Projects/NFLBIGDATA/.venv/lib/python3.9/site-packages/torch/nn/functional.py:782\u001b[0m, in \u001b[0;36m_max_pool2d\u001b[0;34m(input, kernel_size, stride, padding, dilation, ceil_mode, return_indices)\u001b[0m\n\u001b[1;32m    780\u001b[0m \u001b[39mif\u001b[39;00m stride \u001b[39mis\u001b[39;00m \u001b[39mNone\u001b[39;00m:\n\u001b[1;32m    781\u001b[0m     stride \u001b[39m=\u001b[39m torch\u001b[39m.\u001b[39mjit\u001b[39m.\u001b[39mannotate(List[\u001b[39mint\u001b[39m], [])\n\u001b[0;32m--> 782\u001b[0m \u001b[39mreturn\u001b[39;00m torch\u001b[39m.\u001b[39;49mmax_pool2d(\u001b[39minput\u001b[39;49m, kernel_size, stride, padding, dilation, ceil_mode)\n",
      "\u001b[0;31mRuntimeError\u001b[0m: Given input size: (512x3x1). Calculated output size: (512x1x0). Output size is too small"
     ]
    }
   ],
   "source": [
    "\n",
    "m = model(\n",
    "    cnn=\"vgg16\",\n",
    "    num_events=3,\n",
    "    input_feat=num_features,\n",
    "    kernel_size=5,\n",
    "    seq_len=seq_len,\n",
    "    pretrained=False\n",
    ")"
   ]
  },
  {
   "cell_type": "code",
   "execution_count": 4,
   "metadata": {},
   "outputs": [],
   "source": [
    "v, a, simo = m(sample, a_sample)"
   ]
  },
  {
   "cell_type": "code",
   "execution_count": 5,
   "metadata": {},
   "outputs": [
    {
     "name": "stdout",
     "output_type": "stream",
     "text": [
      "{'event_type': tensor([[0.4901, 0.2806, 0.7074],\n",
      "        [0.6748, 0.7870, 0.7924]], grad_fn=<SigmoidBackward0>), 'node_index': tensor([[ 0.4669],\n",
      "        [-0.6981]], grad_fn=<AddmmBackward0>), 'time_of_attack': tensor([[0.4448, 0.0000, 0.2657],\n",
      "        [0.0000, 0.0000, 0.4946]], grad_fn=<ReluBackward0>)}\n"
     ]
    }
   ],
   "source": [
    "print(simo)"
   ]
  },
  {
   "cell_type": "code",
   "execution_count": null,
   "metadata": {},
   "outputs": [],
   "source": []
  }
 ],
 "metadata": {
  "kernelspec": {
   "display_name": ".venv",
   "language": "python",
   "name": "python3"
  },
  "language_info": {
   "codemirror_mode": {
    "name": "ipython",
    "version": 3
   },
   "file_extension": ".py",
   "mimetype": "text/x-python",
   "name": "python",
   "nbconvert_exporter": "python",
   "pygments_lexer": "ipython3",
   "version": "3.9.7"
  },
  "orig_nbformat": 4,
  "vscode": {
   "interpreter": {
    "hash": "7060df42213b144db81061398611e0e5cb9eef953978b054391177d859ea8ffe"
   }
  }
 },
 "nbformat": 4,
 "nbformat_minor": 2
}
