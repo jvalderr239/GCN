{
 "cells": [
  {
   "cell_type": "code",
   "execution_count": 1,
   "metadata": {},
   "outputs": [],
   "source": [
    "from src.models.social_collision_stgcnn import SOCIAL_COLLISION_STGCNN as model"
   ]
  },
  {
   "cell_type": "code",
   "execution_count": 2,
   "metadata": {},
   "outputs": [
    {
     "name": "stdout",
     "output_type": "stream",
     "text": [
      "torch.Size([2, 17, 56, 22])\n",
      "torch.Size([56, 22, 22])\n"
     ]
    }
   ],
   "source": [
    "import torch\n",
    "import numpy as np\n",
    "\n",
    "sample = torch.Tensor(np.ones(\n",
    "    (2, 17, 56, 22)\n",
    "))\n",
    "\n",
    "batch, num_features, seq_len, num_nodes = sample.size()\n",
    "a_sample = torch.Tensor(np.ones(\n",
    "    (seq_len, 22, 22)\n",
    "))\n",
    "print(sample.size())\n",
    "print(a_sample.size())"
   ]
  },
  {
   "cell_type": "code",
   "execution_count": 6,
   "metadata": {},
   "outputs": [
    {
     "name": "stdout",
     "output_type": "stream",
     "text": [
      "2023-12-15 21:55:11,955 - src.models.social_collision_stgcnn - INFO - Constructing 1 spatial layers\n",
      "2023-12-15 21:55:11,960 - src.models.social_collision_stgcnn - INFO - Constructing 1 temporal layers\n",
      "2023-12-15 21:55:11,965 - src.models.social_collision_stgcnn - INFO - Built cnn model for prediction\n"
     ]
    }
   ],
   "source": [
    "\n",
    "device = torch.device(\"cuda:0\" if torch.cuda.is_available() else \"cpu\")\n",
    "m = model(\n",
    "    cnn=None,\n",
    "    num_events=3,\n",
    "    num_nodes=22,\n",
    "    input_feat=num_features,\n",
    "    kernel_size=5,\n",
    "    seq_len=seq_len,\n",
    "    pretrained=False\n",
    ").to(device=device)"
   ]
  },
  {
   "cell_type": "code",
   "execution_count": 7,
   "metadata": {},
   "outputs": [],
   "source": [
    "v, a, simo = m(sample, a_sample)"
   ]
  },
  {
   "cell_type": "code",
   "execution_count": 8,
   "metadata": {},
   "outputs": [
    {
     "name": "stdout",
     "output_type": "stream",
     "text": [
      "{'event_type': tensor([[0.5094, 0.5036, 0.4699],\n",
      "        [0.5094, 0.5036, 0.4699]], grad_fn=<SigmoidBackward0>), 'node_index': tensor([[-0.1085, -0.1210, -0.0755,  0.1197, -0.0080,  0.0602, -0.0237,  0.0545,\n",
      "          0.0385,  0.0303, -0.0062, -0.0157,  0.1212,  0.0322, -0.0265,  0.1231,\n",
      "         -0.0394,  0.1241,  0.0781, -0.0778, -0.0550, -0.0352],\n",
      "        [-0.1085, -0.1210, -0.0755,  0.1197, -0.0080,  0.0602, -0.0237,  0.0545,\n",
      "          0.0385,  0.0303, -0.0062, -0.0157,  0.1212,  0.0322, -0.0265,  0.1231,\n",
      "         -0.0394,  0.1241,  0.0781, -0.0778, -0.0550, -0.0352]],\n",
      "       grad_fn=<AddmmBackward0>), 'time_of_attack': tensor([[0.0807, 0.0000, 0.0118],\n",
      "        [0.0807, 0.0000, 0.0118]], grad_fn=<ReluBackward0>)}\n"
     ]
    }
   ],
   "source": [
    "print(simo)"
   ]
  },
  {
   "cell_type": "code",
   "execution_count": null,
   "metadata": {},
   "outputs": [],
   "source": []
  }
 ],
 "metadata": {
  "kernelspec": {
   "display_name": ".venv",
   "language": "python",
   "name": "python3"
  },
  "language_info": {
   "codemirror_mode": {
    "name": "ipython",
    "version": 3
   },
   "file_extension": ".py",
   "mimetype": "text/x-python",
   "name": "python",
   "nbconvert_exporter": "python",
   "pygments_lexer": "ipython3",
   "version": "3.9.7"
  },
  "orig_nbformat": 4,
  "vscode": {
   "interpreter": {
    "hash": "7060df42213b144db81061398611e0e5cb9eef953978b054391177d859ea8ffe"
   }
  }
 },
 "nbformat": 4,
 "nbformat_minor": 2
}
