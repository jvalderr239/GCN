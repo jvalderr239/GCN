{
 "cells": [
  {
   "cell_type": "code",
   "execution_count": 1,
   "metadata": {},
   "outputs": [],
   "source": [
    "from src.models.social_collision_stgcnn import SOCIAL_COLLISION_STGCNN as model"
   ]
  },
  {
   "cell_type": "code",
   "execution_count": 5,
   "metadata": {},
   "outputs": [
    {
     "name": "stdout",
     "output_type": "stream",
     "text": [
      "torch.Size([2, 17, 56, 22])\n",
      "torch.Size([56, 22, 22])\n"
     ]
    }
   ],
   "source": [
    "import torch\n",
    "import numpy as np\n",
    "\n",
    "sample = torch.Tensor(np.ones(\n",
    "    (2, 17, 56, 22)\n",
    "))\n",
    "\n",
    "batch, num_features, seq_len, num_nodes = sample.size()\n",
    "a_sample = torch.Tensor(np.ones(\n",
    "    (seq_len, 22, 22)\n",
    "))\n",
    "print(sample.size())\n",
    "print(a_sample.size())"
   ]
  },
  {
   "cell_type": "code",
   "execution_count": 6,
   "metadata": {},
   "outputs": [],
   "source": [
    "\n",
    "m = model(\n",
    "    #cnn=\"resnet34\",\n",
    "    num_events=3,\n",
    "    input_feat=num_features,\n",
    "    kernel_size=5,\n",
    "    seq_len=seq_len,\n",
    "    pretrained=False\n",
    ")"
   ]
  },
  {
   "cell_type": "code",
   "execution_count": 7,
   "metadata": {},
   "outputs": [
    {
     "name": "stdout",
     "output_type": "stream",
     "text": [
      "torch.Size([56, 22, 22])\n",
      "56\n"
     ]
    }
   ],
   "source": [
    "v, a, simo = m(sample, a_sample)"
   ]
  },
  {
   "cell_type": "code",
   "execution_count": 8,
   "metadata": {},
   "outputs": [
    {
     "name": "stdout",
     "output_type": "stream",
     "text": [
      "{'event_type': tensor([[0.4875, 0.4786, 0.4921],\n",
      "        [0.4875, 0.4786, 0.4921]], grad_fn=<SigmoidBackward0>), 'node_index': tensor([[0.0387],\n",
      "        [0.0387]], grad_fn=<AddmmBackward0>), 'time_of_attack': tensor([[0.1137, 0.0157, 0.1148],\n",
      "        [0.1137, 0.0157, 0.1148]], grad_fn=<ReluBackward0>)}\n"
     ]
    }
   ],
   "source": [
    "print(simo)"
   ]
  },
  {
   "cell_type": "code",
   "execution_count": null,
   "metadata": {},
   "outputs": [],
   "source": []
  }
 ],
 "metadata": {
  "kernelspec": {
   "display_name": ".venv",
   "language": "python",
   "name": "python3"
  },
  "language_info": {
   "codemirror_mode": {
    "name": "ipython",
    "version": 3
   },
   "file_extension": ".py",
   "mimetype": "text/x-python",
   "name": "python",
   "nbconvert_exporter": "python",
   "pygments_lexer": "ipython3",
   "version": "3.9.7"
  },
  "orig_nbformat": 4,
  "vscode": {
   "interpreter": {
    "hash": "7060df42213b144db81061398611e0e5cb9eef953978b054391177d859ea8ffe"
   }
  }
 },
 "nbformat": 4,
 "nbformat_minor": 2
}
